{
  "nbformat": 4,
  "nbformat_minor": 0,
  "metadata": {
    "colab": {
      "provenance": [],
      "authorship_tag": "ABX9TyNwyyBI+a7k3C14yqeh4xTw",
      "include_colab_link": true
    },
    "kernelspec": {
      "name": "python3",
      "display_name": "Python 3"
    },
    "language_info": {
      "name": "python"
    }
  },
  "cells": [
    {
      "cell_type": "markdown",
      "metadata": {
        "id": "view-in-github",
        "colab_type": "text"
      },
      "source": [
        "<a href=\"https://colab.research.google.com/github/CesarAHN/Clases-de-R/blob/master/Variables_expresiones_y_sentencias.ipynb\" target=\"_parent\"><img src=\"https://colab.research.google.com/assets/colab-badge.svg\" alt=\"Open In Colab\"/></a>"
      ]
    },
    {
      "cell_type": "markdown",
      "source": [
        "# TIPOS DE VALORES"
      ],
      "metadata": {
        "id": "MPDa0ZOAwNCr"
      }
    },
    {
      "cell_type": "markdown",
      "source": [
        "### Para conocer el tipo de valores se usa la función type()"
      ],
      "metadata": {
        "id": "TL8qa9OgwfUw"
      }
    },
    {
      "cell_type": "code",
      "source": [
        "type(17)"
      ],
      "metadata": {
        "colab": {
          "base_uri": "https://localhost:8080/"
        },
        "id": "mS02t5IOwRb3",
        "outputId": "0cfb070f-ed35-440f-d233-19eeb046f9ea"
      },
      "execution_count": 5,
      "outputs": [
        {
          "output_type": "execute_result",
          "data": {
            "text/plain": [
              "int"
            ]
          },
          "metadata": {},
          "execution_count": 5
        }
      ]
    },
    {
      "cell_type": "code",
      "source": [
        "type(\"Hola\")"
      ],
      "metadata": {
        "colab": {
          "base_uri": "https://localhost:8080/"
        },
        "id": "XKo5YY7kwatw",
        "outputId": "ffc2a957-1060-40f8-d5c3-060170320ad2"
      },
      "execution_count": 4,
      "outputs": [
        {
          "output_type": "execute_result",
          "data": {
            "text/plain": [
              "str"
            ]
          },
          "metadata": {},
          "execution_count": 4
        }
      ]
    },
    {
      "cell_type": "code",
      "source": [
        "type(1.4)"
      ],
      "metadata": {
        "colab": {
          "base_uri": "https://localhost:8080/"
        },
        "id": "q-dHS8RFw2q6",
        "outputId": "610d17a4-3e36-46e3-db3c-9cbc39b26f6f"
      },
      "execution_count": 6,
      "outputs": [
        {
          "output_type": "execute_result",
          "data": {
            "text/plain": [
              "float"
            ]
          },
          "metadata": {},
          "execution_count": 6
        }
      ]
    },
    {
      "cell_type": "markdown",
      "source": [
        "# TIPOS DE VARIABLES"
      ],
      "metadata": {
        "id": "S5bBowEExV71"
      }
    },
    {
      "cell_type": "code",
      "source": [
        "var1=18\n",
        "t=\"Hola\"\n",
        "ur3=2.7178"
      ],
      "metadata": {
        "id": "2UCNYWnZxqMv"
      },
      "execution_count": 13,
      "outputs": []
    },
    {
      "cell_type": "markdown",
      "source": [
        "### Para observar las variables, se las llama con la función print()"
      ],
      "metadata": {
        "id": "SfLEksJ6x29S"
      }
    },
    {
      "cell_type": "code",
      "source": [
        "print(var1);print(t);print(ur3)"
      ],
      "metadata": {
        "colab": {
          "base_uri": "https://localhost:8080/"
        },
        "id": "a_aODvlbxv95",
        "outputId": "57196d16-d8fb-4827-8747-8aaa4ec132e5"
      },
      "execution_count": 16,
      "outputs": [
        {
          "output_type": "stream",
          "name": "stdout",
          "text": [
            "18\n",
            "Hola\n",
            "2.7178\n"
          ]
        }
      ]
    },
    {
      "cell_type": "markdown",
      "source": [
        "### También se puede ver el tipo de variable, para esto se usa la misma función type()"
      ],
      "metadata": {
        "id": "KYFSjW2dyixi"
      }
    },
    {
      "cell_type": "code",
      "source": [
        "type(var1)"
      ],
      "metadata": {
        "colab": {
          "base_uri": "https://localhost:8080/"
        },
        "id": "MOBVsE3lyrtc",
        "outputId": "e3d1e166-bade-4bde-ed88-6397bb9214e9"
      },
      "execution_count": 19,
      "outputs": [
        {
          "output_type": "execute_result",
          "data": {
            "text/plain": [
              "int"
            ]
          },
          "metadata": {},
          "execution_count": 19
        }
      ]
    },
    {
      "cell_type": "code",
      "source": [
        "type(t)"
      ],
      "metadata": {
        "colab": {
          "base_uri": "https://localhost:8080/"
        },
        "id": "5Vv6-jVpy6GD",
        "outputId": "56e487a4-4304-48f0-95f1-cd947067b8b6"
      },
      "execution_count": 20,
      "outputs": [
        {
          "output_type": "execute_result",
          "data": {
            "text/plain": [
              "str"
            ]
          },
          "metadata": {},
          "execution_count": 20
        }
      ]
    },
    {
      "cell_type": "code",
      "source": [
        "type(ur3)"
      ],
      "metadata": {
        "colab": {
          "base_uri": "https://localhost:8080/"
        },
        "id": "yfVDBQuuy7-K",
        "outputId": "b8d69da2-9b64-4e53-d2ab-999bbb540808"
      },
      "execution_count": 21,
      "outputs": [
        {
          "output_type": "execute_result",
          "data": {
            "text/plain": [
              "float"
            ]
          },
          "metadata": {},
          "execution_count": 21
        }
      ]
    },
    {
      "cell_type": "markdown",
      "source": [
        "Al igual que en todos los softwares (con error a equivocarme) las variables pueden ser números y letras, pero deberían de empezar siempre con letras.  El tamaño del nombre de la variable es arbitrario.  \n",
        "\n",
        "* Importa muchísimo las mayúsculas y minúsculas.   \n",
        "* También se puede usar el guión bajo para definir variables. Por ejemplo var_1  \n",
        "* No se deben de usar otros símbolos.\n",
        "* No se deben de usar palabras reservadas como:\n",
        "and continue else for import not raise\n",
        "assert def except from in or return\n",
        "break del exec global is pass try\n",
        "class elif finally if lambda print while\n",
        "\n",
        "Ya que son palabras reservadas por el software.\n",
        "\n"
      ],
      "metadata": {
        "id": "GNHMRz7lzGqi"
      }
    },
    {
      "cell_type": "markdown",
      "source": [
        "# OPERADORES MATEMÁTICOS"
      ],
      "metadata": {
        "id": "FnCHlBp22HIr"
      }
    },
    {
      "cell_type": "markdown",
      "source": [
        "### Los operadores matemáticos que se usan son iguales a la mayoría de softwares, que por intuición se podrían de conocer."
      ],
      "metadata": {
        "id": "YXPgnrjj2O36"
      }
    },
    {
      "cell_type": "code",
      "source": [
        "3+2 # Suma"
      ],
      "metadata": {
        "colab": {
          "base_uri": "https://localhost:8080/"
        },
        "id": "hLpTyz__2c0D",
        "outputId": "e1878869-e8ee-4a57-c543-41dd1d625dca"
      },
      "execution_count": 22,
      "outputs": [
        {
          "output_type": "execute_result",
          "data": {
            "text/plain": [
              "5"
            ]
          },
          "metadata": {},
          "execution_count": 22
        }
      ]
    },
    {
      "cell_type": "code",
      "source": [
        "3-2 # Diferencia"
      ],
      "metadata": {
        "colab": {
          "base_uri": "https://localhost:8080/"
        },
        "id": "bNJIlw0y2irp",
        "outputId": "6c180b94-8c83-40b7-8d2c-6410f2280044"
      },
      "execution_count": 23,
      "outputs": [
        {
          "output_type": "execute_result",
          "data": {
            "text/plain": [
              "1"
            ]
          },
          "metadata": {},
          "execution_count": 23
        }
      ]
    },
    {
      "cell_type": "code",
      "source": [
        "3*2 # Multiplicación"
      ],
      "metadata": {
        "colab": {
          "base_uri": "https://localhost:8080/"
        },
        "id": "BtydnsEb2oMq",
        "outputId": "b48d8bed-31b0-4f21-9327-0033978cbc5c"
      },
      "execution_count": 24,
      "outputs": [
        {
          "output_type": "execute_result",
          "data": {
            "text/plain": [
              "6"
            ]
          },
          "metadata": {},
          "execution_count": 24
        }
      ]
    },
    {
      "cell_type": "code",
      "source": [
        "3/2 # División"
      ],
      "metadata": {
        "colab": {
          "base_uri": "https://localhost:8080/"
        },
        "id": "Rb2L811G2srC",
        "outputId": "1b817e63-8873-412a-d348-98f2110294bb"
      },
      "execution_count": 25,
      "outputs": [
        {
          "output_type": "execute_result",
          "data": {
            "text/plain": [
              "1.5"
            ]
          },
          "metadata": {},
          "execution_count": 25
        }
      ]
    },
    {
      "cell_type": "code",
      "source": [
        "3**2 # Exponente"
      ],
      "metadata": {
        "colab": {
          "base_uri": "https://localhost:8080/"
        },
        "id": "bU4-SChD2wWq",
        "outputId": "f6c12cc2-b0e2-49b5-b888-228c4425c358"
      },
      "execution_count": 26,
      "outputs": [
        {
          "output_type": "execute_result",
          "data": {
            "text/plain": [
              "9"
            ]
          },
          "metadata": {},
          "execution_count": 26
        }
      ]
    },
    {
      "cell_type": "markdown",
      "source": [
        "## El orden de las operaciones"
      ],
      "metadata": {
        "id": "608O7hka3hiI"
      }
    },
    {
      "cell_type": "markdown",
      "source": [
        "Se usa las mismas reglas de la matemática, es así que se se usa el famosísimo PEMDAS.\n",
        "\n",
        "Se lista en orden de iportancia:\n",
        "\n",
        "* Paréntesis.\n",
        "* Exponencial.\n",
        "* Multiplicación.\n",
        "* División.\n",
        "* Adición.\n",
        "* Sustracción."
      ],
      "metadata": {
        "id": "51wecSm_4DV3"
      }
    },
    {
      "cell_type": "code",
      "source": [
        "(3+2)*(3-2)**3"
      ],
      "metadata": {
        "colab": {
          "base_uri": "https://localhost:8080/"
        },
        "id": "nEnTv03b4kSn",
        "outputId": "6001cae9-c139-4c87-bba3-c454a305450a"
      },
      "execution_count": 30,
      "outputs": [
        {
          "output_type": "execute_result",
          "data": {
            "text/plain": [
              "5"
            ]
          },
          "metadata": {},
          "execution_count": 30
        }
      ]
    },
    {
      "cell_type": "markdown",
      "source": [
        "## Operaciones en cadena de caracteres."
      ],
      "metadata": {
        "id": "W51zUu5C4ud3"
      }
    },
    {
      "cell_type": "markdown",
      "source": [
        "Siguiendo a otros softwares, no se podría hacer operaciones con caracteres. Pero python si los puede hacer.\n",
        "\n",
        "Puede hacerse uso del operador \"+\" y del operador \"*\", el primero concatena y el segundo repite."
      ],
      "metadata": {
        "id": "zeFJUrg_4yEX"
      }
    },
    {
      "cell_type": "code",
      "source": [
        "\"Hola\" + \" que tal\""
      ],
      "metadata": {
        "colab": {
          "base_uri": "https://localhost:8080/",
          "height": 35
        },
        "id": "OakJiGKx6NeM",
        "outputId": "c4f7a694-c535-4ac4-9069-8e3da903d2e1"
      },
      "execution_count": 32,
      "outputs": [
        {
          "output_type": "execute_result",
          "data": {
            "text/plain": [
              "'Hola que tal'"
            ],
            "application/vnd.google.colaboratory.intrinsic+json": {
              "type": "string"
            }
          },
          "metadata": {},
          "execution_count": 32
        }
      ]
    },
    {
      "cell_type": "code",
      "source": [
        "3*\" Hola\""
      ],
      "metadata": {
        "colab": {
          "base_uri": "https://localhost:8080/",
          "height": 35
        },
        "id": "cQ44bJDr6U57",
        "outputId": "917f86c5-6318-416e-8960-9e6d17db0e90"
      },
      "execution_count": 34,
      "outputs": [
        {
          "output_type": "execute_result",
          "data": {
            "text/plain": [
              "' Hola Hola Hola'"
            ],
            "application/vnd.google.colaboratory.intrinsic+json": {
              "type": "string"
            }
          },
          "metadata": {},
          "execution_count": 34
        }
      ]
    },
    {
      "cell_type": "code",
      "source": [
        "\"Hola \"*3"
      ],
      "metadata": {
        "colab": {
          "base_uri": "https://localhost:8080/",
          "height": 35
        },
        "id": "X6JxmSAs6dxj",
        "outputId": "11d2880e-8582-44f7-9dcb-07dc97e80d2a"
      },
      "execution_count": 35,
      "outputs": [
        {
          "output_type": "execute_result",
          "data": {
            "text/plain": [
              "'Hola Hola Hola '"
            ],
            "application/vnd.google.colaboratory.intrinsic+json": {
              "type": "string"
            }
          },
          "metadata": {},
          "execution_count": 35
        }
      ]
    }
  ]
}